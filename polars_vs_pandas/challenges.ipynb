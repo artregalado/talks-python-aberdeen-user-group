{
 "cells": [
  {
   "attachments": {},
   "cell_type": "markdown",
   "metadata": {},
   "source": [
    "# APUG 10 May 2023 Challenges\n",
    "## Arturo Regalado\n",
    "## Working with Polars and Pandas\n",
    "\n",
    "In this notebook you will find the challenges for the APUG 10 May 2023 meeting. \n",
    "\n",
    "I have setup the required imports and url for the data. You will be working with the same Pokemon dataset used in the presentation. \n",
    "\n",
    "The format is as follows. I will prompt some questions and you should use polars to retrieve data to answer them. "
   ]
  },
  {
   "cell_type": "code",
   "execution_count": 1,
   "metadata": {},
   "outputs": [
    {
     "data": {
      "text/html": [
       "<div><style>\n",
       ".dataframe > thead > tr > th,\n",
       ".dataframe > tbody > tr > td {\n",
       "  text-align: right;\n",
       "}\n",
       "</style>\n",
       "<small>shape: (5, 13)</small><table border=\"1\" class=\"dataframe\"><thead><tr><th>#</th><th>Name</th><th>Type 1</th><th>Type 2</th><th>Total</th><th>HP</th><th>Attack</th><th>Defense</th><th>Sp. Atk</th><th>Sp. Def</th><th>Speed</th><th>Generation</th><th>Legendary</th></tr><tr><td>i64</td><td>str</td><td>str</td><td>str</td><td>i64</td><td>i64</td><td>i64</td><td>i64</td><td>i64</td><td>i64</td><td>i64</td><td>i64</td><td>bool</td></tr></thead><tbody><tr><td>1</td><td>&quot;Bulbasaur&quot;</td><td>&quot;Grass&quot;</td><td>&quot;Poison&quot;</td><td>318</td><td>45</td><td>49</td><td>49</td><td>65</td><td>65</td><td>45</td><td>1</td><td>false</td></tr><tr><td>2</td><td>&quot;Ivysaur&quot;</td><td>&quot;Grass&quot;</td><td>&quot;Poison&quot;</td><td>405</td><td>60</td><td>62</td><td>63</td><td>80</td><td>80</td><td>60</td><td>1</td><td>false</td></tr><tr><td>3</td><td>&quot;Venusaur&quot;</td><td>&quot;Grass&quot;</td><td>&quot;Poison&quot;</td><td>525</td><td>80</td><td>82</td><td>83</td><td>100</td><td>100</td><td>80</td><td>1</td><td>false</td></tr><tr><td>3</td><td>&quot;VenusaurMega V…</td><td>&quot;Grass&quot;</td><td>&quot;Poison&quot;</td><td>625</td><td>80</td><td>100</td><td>123</td><td>122</td><td>120</td><td>80</td><td>1</td><td>false</td></tr><tr><td>4</td><td>&quot;Charmander&quot;</td><td>&quot;Fire&quot;</td><td>null</td><td>309</td><td>39</td><td>52</td><td>43</td><td>60</td><td>50</td><td>65</td><td>1</td><td>false</td></tr></tbody></table></div>"
      ],
      "text/plain": [
       "shape: (5, 13)\n",
       "┌─────┬───────────────────────┬────────┬────────┬───┬─────────┬───────┬────────────┬───────────┐\n",
       "│ #   ┆ Name                  ┆ Type 1 ┆ Type 2 ┆ … ┆ Sp. Def ┆ Speed ┆ Generation ┆ Legendary │\n",
       "│ --- ┆ ---                   ┆ ---    ┆ ---    ┆   ┆ ---     ┆ ---   ┆ ---        ┆ ---       │\n",
       "│ i64 ┆ str                   ┆ str    ┆ str    ┆   ┆ i64     ┆ i64   ┆ i64        ┆ bool      │\n",
       "╞═════╪═══════════════════════╪════════╪════════╪═══╪═════════╪═══════╪════════════╪═══════════╡\n",
       "│ 1   ┆ Bulbasaur             ┆ Grass  ┆ Poison ┆ … ┆ 65      ┆ 45    ┆ 1          ┆ false     │\n",
       "│ 2   ┆ Ivysaur               ┆ Grass  ┆ Poison ┆ … ┆ 80      ┆ 60    ┆ 1          ┆ false     │\n",
       "│ 3   ┆ Venusaur              ┆ Grass  ┆ Poison ┆ … ┆ 100     ┆ 80    ┆ 1          ┆ false     │\n",
       "│ 3   ┆ VenusaurMega Venusaur ┆ Grass  ┆ Poison ┆ … ┆ 120     ┆ 80    ┆ 1          ┆ false     │\n",
       "│ 4   ┆ Charmander            ┆ Fire   ┆ null   ┆ … ┆ 50      ┆ 65    ┆ 1          ┆ false     │\n",
       "└─────┴───────────────────────┴────────┴────────┴───┴─────────┴───────┴────────────┴───────────┘"
      ]
     },
     "execution_count": 1,
     "metadata": {},
     "output_type": "execute_result"
    }
   ],
   "source": [
    "# Setup and main data\n",
    "# For polars be sure to pip install polars[\"all\"]\n",
    "import polars as pl\n",
    "import pandas as pd\n",
    "import seaborn as sns\n",
    "\n",
    "url = r\"https://gist.githubusercontent.com/ritchie46/cac6b337ea52281aa23c049250a4ff03/raw/89a957ff3919d90e6ef2d34235e6bf22304f3366/pokemon.csv\"\n",
    "df = pl.read_csv(url)\n",
    "df.head()\n"
   ]
  },
  {
   "attachments": {},
   "cell_type": "markdown",
   "metadata": {},
   "source": [
    "### Question 1. \n",
    "\n",
    "+ How many grass-type pokemons are there? Which are the top 5 with highest defense? Focus only on column Type 1. \n",
    "\n",
    "Tips: \n",
    "\n",
    "* Use the [filter](https://pola-rs.github.io/polars-book/user-guide/concepts/contexts/#filter) context, [aggregate and then count](https://pola-rs.github.io/polars-book/user-guide/expressions/aggregation/#filtering).\n",
    "\n",
    "* Debug chains step-by-step. The chain should be all inside parenthesis.\n",
    "\n",
    "* The workforce function pl.col() is used to extract a column from a data frame. \n",
    "\n",
    "* Basic steps for beginners:\n",
    "\n",
    "  * Question 1. \n",
    "    * You can do this in one line. \n",
    "      * First filter for Grass-types\n",
    "      * Then groupby \"Type 1\"\n",
    "      * Then apply count. \n",
    "      * The structure is: `df.filter(#something).groupby(#something).count()`\n",
    "      * Look for a similar operation in the Pokemon notebook. \n",
    "  \n",
    "  * Question 2.\n",
    "    * Start by filtering the grass-type pokemons.\n",
    "    * Then select only the name, Type 1 and Defense columns. \n",
    "    * Sort the results from largest to smallest and then show only first 5. "
   ]
  },
  {
   "attachments": {},
   "cell_type": "markdown",
   "metadata": {},
   "source": []
  },
  {
   "cell_type": "code",
   "execution_count": 2,
   "metadata": {},
   "outputs": [],
   "source": [
    "# Question 1.1\n"
   ]
  },
  {
   "cell_type": "code",
   "execution_count": 3,
   "metadata": {},
   "outputs": [],
   "source": [
    "# Question 1.2\n"
   ]
  },
  {
   "attachments": {},
   "cell_type": "markdown",
   "metadata": {},
   "source": [
    "### Question 2. \n",
    "\n",
    "+ Between grass, fire and water types, which one has the highest average HP and Attack, and what are their standard deviations?\n",
    "\n",
    "**Bonus points if you make a bar plot of the averages by group**\n",
    "\n",
    "Advise for beginners: break down the steps and implement each one. Think your approach before writing code.\n",
    "\n",
    "This way a large problem becomes more manageable. As a quick help the first step is to filter for the desired types. Then we need to do group calculations with use the [aggregate](https://pola-rs.github.io/polars-book/user-guide/expressions/aggregation/) function. \n",
    "\n",
    "Tips:\n",
    "\n",
    "* As we are trying to filter for more than one type, using the `is_in(array)` method is useful. For example: `df.filter(pl.col(\"Type 1\").is_in([\"Poison\", \"Ice\"]))`\n",
    "* See the [API reference](https://pola-rs.github.io/polars/py-polars/html/reference/dataframe/aggregation.html) to check what is the function for the standard deviation. \n",
    "* To plot you might want to use seaborn.barplot(). This is the link to the [documentation](https://seaborn.pydata.org/generated/seaborn.barplot.html?highlight=barplot#seaborn.barplot). You will need to transform your data into a pandas dataframe in [long format](https://pola-rs.github.io/polars/py-polars/html/reference/dataframe/api/polars.DataFrame.melt.html#polars.DataFrame.melt) using `df.melt`. "
   ]
  },
  {
   "attachments": {},
   "cell_type": "markdown",
   "metadata": {},
   "source": []
  },
  {
   "cell_type": "code",
   "execution_count": 4,
   "metadata": {},
   "outputs": [],
   "source": [
    "# Question 2.1\n"
   ]
  },
  {
   "cell_type": "code",
   "execution_count": 5,
   "metadata": {},
   "outputs": [],
   "source": [
    "# Question 2.2\n"
   ]
  },
  {
   "attachments": {},
   "cell_type": "markdown",
   "metadata": {},
   "source": [
    "### Question 3. \n",
    "\n",
    "+ Are legendary pokemons stronger than regular pokemons?\n",
    "+ Show the stats that lead to your conclusion. \n",
    "\n",
    "Use all the information in the pokemon notebook and in the above questions to figure out an answer to the analysis. "
   ]
  },
  {
   "cell_type": "code",
   "execution_count": null,
   "metadata": {},
   "outputs": [],
   "source": []
  }
 ],
 "metadata": {
  "kernelspec": {
   "display_name": "venv",
   "language": "python",
   "name": "python3"
  },
  "language_info": {
   "codemirror_mode": {
    "name": "ipython",
    "version": 3
   },
   "file_extension": ".py",
   "mimetype": "text/x-python",
   "name": "python",
   "nbconvert_exporter": "python",
   "pygments_lexer": "ipython3",
   "version": "3.10.11"
  },
  "orig_nbformat": 4
 },
 "nbformat": 4,
 "nbformat_minor": 2
}
