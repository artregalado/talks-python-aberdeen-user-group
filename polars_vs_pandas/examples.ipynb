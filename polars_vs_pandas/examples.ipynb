{
 "cells": [
  {
   "attachments": {},
   "cell_type": "markdown",
   "metadata": {},
   "source": [
    "# Code examples for Pandas vs Polars Talk\n",
    "## Arturo Regalado\n",
    "### 10 May 2023\n",
    "\n",
    "Dataset for benchmarks and main examples: [Reddit Sarcasm Posts](https://www.kaggle.com/datasets/danofer/sarcasm)\n",
    "Size of data: 1 million rows by 10 columns"
   ]
  },
  {
   "cell_type": "code",
   "execution_count": 23,
   "metadata": {},
   "outputs": [],
   "source": [
    "# Imports\n",
    "import pandas as pd\n",
    "import polars as pl\n",
    "data_url = r\"C:\\Users\\artre\\Downloads\\archive (1)\\train-balanced-sarcasm.csv\""
   ]
  },
  {
   "attachments": {},
   "cell_type": "markdown",
   "metadata": {},
   "source": [
    "## Loading comparisons"
   ]
  },
  {
   "cell_type": "code",
   "execution_count": 24,
   "metadata": {},
   "outputs": [
    {
     "name": "stdout",
     "output_type": "stream",
     "text": [
      "4.35 s ± 132 ms per loop (mean ± std. dev. of 10 runs, 1 loop each)\n"
     ]
    }
   ],
   "source": [
    "%%timeit -r 10\n",
    "# Pandas eager\n",
    "df_pandas = pd.read_csv(data_url, sep=',', on_bad_lines='skip', low_memory=False)"
   ]
  },
  {
   "cell_type": "code",
   "execution_count": 25,
   "metadata": {},
   "outputs": [
    {
     "name": "stdout",
     "output_type": "stream",
     "text": [
      "254 ms ± 10.1 ms per loop (mean ± std. dev. of 10 runs, 1 loop each)\n"
     ]
    }
   ],
   "source": [
    "%%timeit -r 10\n",
    "# Polars eager execution\n",
    "df_polars = pl.read_csv(data_url)"
   ]
  },
  {
   "cell_type": "code",
   "execution_count": 26,
   "metadata": {},
   "outputs": [
    {
     "name": "stdout",
     "output_type": "stream",
     "text": [
      "250 ms ± 7.06 ms per loop (mean ± std. dev. of 10 runs, 1 loop each)\n"
     ]
    }
   ],
   "source": [
    "%%timeit -r 10\n",
    "# Polars lazy execution\n",
    "\n",
    "df_polars = (\n",
    "    pl.scan_csv(data_url)\n",
    "    .collect()\n",
    ")"
   ]
  },
  {
   "cell_type": "code",
   "execution_count": 27,
   "metadata": {},
   "outputs": [
    {
     "name": "stdout",
     "output_type": "stream",
     "text": [
      "145 ms ± 2.65 ms per loop (mean ± std. dev. of 10 runs, 10 loops each)\n"
     ]
    }
   ],
   "source": [
    "%%timeit -r 10\n",
    "# Polars with laxy execution and streaming. Useful when data is too big to hold in memory\n",
    "df_polars = (\n",
    "    pl.scan_csv(data_url)\n",
    "    .collect(streaming=True)\n",
    ")"
   ]
  },
  {
   "cell_type": "code",
   "execution_count": 28,
   "metadata": {},
   "outputs": [
    {
     "name": "stdout",
     "output_type": "stream",
     "text": [
      "41.5 ms ± 1.4 ms per loop (mean ± std. dev. of 10 runs, 10 loops each)\n"
     ]
    }
   ],
   "source": [
    "%%timeit -r 10\n",
    "# Polars lazy execution with fetch. Useful when debugging. \n",
    "\n",
    "df_polars = (\n",
    "    pl.scan_csv(data_url)\n",
    "    .fetch(n_rows=int(100000))\n",
    ")"
   ]
  },
  {
   "attachments": {},
   "cell_type": "markdown",
   "metadata": {},
   "source": [
    "## Processing data examples"
   ]
  },
  {
   "cell_type": "code",
   "execution_count": 30,
   "metadata": {},
   "outputs": [
    {
     "name": "stdout",
     "output_type": "stream",
     "text": [
      "4.47 s ± 82.8 ms per loop (mean ± std. dev. of 10 runs, 1 loop each)\n"
     ]
    }
   ],
   "source": [
    "%%timeit -r 10\n",
    "# Pandas with method chaining syntax\n",
    "\n",
    "df_pandas = (\n",
    "    pd.read_csv(data_url, on_bad_lines='skip', low_memory=False)\n",
    "    .query('subreddit == \"politics\"')\n",
    "    .query('score > 0')\n",
    ")\n",
    "\n",
    "df_pandas.head()"
   ]
  },
  {
   "cell_type": "code",
   "execution_count": 31,
   "metadata": {},
   "outputs": [
    {
     "name": "stdout",
     "output_type": "stream",
     "text": [
      "320 ms ± 22.2 ms per loop (mean ± std. dev. of 10 runs, 1 loop each)\n"
     ]
    }
   ],
   "source": [
    "%%timeit -r 10\n",
    "# Polars with eager execution\n",
    "df_polars = (\n",
    "    pl.read_csv(data_url)\n",
    "    .filter(pl.col('subreddit') == 'politics')\n",
    "    .filter(pl.col('score') > 0)\n",
    ")\n",
    "\n",
    "df_polars.head()"
   ]
  },
  {
   "cell_type": "code",
   "execution_count": 32,
   "metadata": {},
   "outputs": [
    {
     "name": "stdout",
     "output_type": "stream",
     "text": [
      "183 ms ± 4.6 ms per loop (mean ± std. dev. of 10 runs, 10 loops each)\n"
     ]
    }
   ],
   "source": [
    "%%timeit -r 10\n",
    "# Polars with lazy execution\n",
    "\n",
    "q1 = (\n",
    "    pl.scan_csv(data_url)\n",
    "    .filter(pl.col('subreddit') == 'politics')\n",
    "    .filter(pl.col('score') > 0)\n",
    "    .collect()\n",
    ")"
   ]
  },
  {
   "attachments": {},
   "cell_type": "markdown",
   "metadata": {},
   "source": [
    "## Summary of benchmarks"
   ]
  },
  {
   "attachments": {},
   "cell_type": "markdown",
   "metadata": {},
   "source": [
    "### Loading times\n",
    "Test | Average | SD\n",
    "---------|----------|---------\n",
    " Pandas | 4.35 s | 132 ms\n",
    " Polars Eager | 254 ms | 10.1 ms\n",
    " Polars Lazy | 250 ms | 7.06 ms"
   ]
  },
  {
   "attachments": {},
   "cell_type": "markdown",
   "metadata": {},
   "source": [
    "### Processing\n",
    "Test | Average | SD\n",
    "---------|----------|---------\n",
    " Pandas | 4.47 s | 82.8 ms\n",
    " Polars Eager | 320 ms | 22.1 ms\n",
    " Polars Lazy | 183 ms | 4.6 ms"
   ]
  }
 ],
 "metadata": {
  "kernelspec": {
   "display_name": "venv",
   "language": "python",
   "name": "python3"
  },
  "language_info": {
   "codemirror_mode": {
    "name": "ipython",
    "version": 3
   },
   "file_extension": ".py",
   "mimetype": "text/x-python",
   "name": "python",
   "nbconvert_exporter": "python",
   "pygments_lexer": "ipython3",
   "version": "3.10.11"
  },
  "orig_nbformat": 4
 },
 "nbformat": 4,
 "nbformat_minor": 2
}
