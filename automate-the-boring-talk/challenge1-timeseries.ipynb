{
 "cells": [
  {
   "cell_type": "markdown",
   "metadata": {},
   "source": [
    "# Challenge 1 - Basic Time Series\n",
    "\n",
    "\n",
    "Time series manipulation is perhaps one of the most dreaded and brain-braking data munging activities. We need good tools to facilitate our jobs. \n",
    "\n",
    "In this challenge you will try to perform some basic data analysis and manipulations that require working with time series. Python, especially through Pandas, has great time series funcionality.\n",
    "\n",
    "Instead of having a filled notebook where you (and me) can look at the answers I will first let you try to complete the challenge on your own. After you give it a go I will guide you through showing you my thought process and how I would solve some of the issues. This challenge will also be a test of how good you are at reading documentation. "
   ]
  },
  {
   "cell_type": "markdown",
   "metadata": {},
   "source": [
    "## Objective\n",
    "\n",
    "* Calculate the monthly and annual total oil production from the Alba field in the North Sea.\n",
    "\n",
    "### Data\n",
    "\n",
    "In the following cell you will find a list with monthly oil production in **thousand barrels per day** for **Jan 2019 to Dec 2020** for the ALBA field. Two years worht of data. Each data point is recorded by months end.\n",
    "\n",
    "* Source https://data-ogauthority.opendata.arcgis.com/pages/production"
   ]
  },
  {
   "cell_type": "code",
   "execution_count": 29,
   "metadata": {},
   "outputs": [],
   "source": [
    "import pandas as pd\n",
    "import numpy as np"
   ]
  },
  {
   "cell_type": "code",
   "execution_count": 9,
   "metadata": {},
   "outputs": [],
   "source": [
    "production = [12.66, 11.74, 11.04,11.13,11.36,10.21,11.01,4.97,6.46,9.66,9.89,\n",
    "              9.84,8.27,8.47,8.45,8.04,7.99,8.55,7.70,7.60,4.76,7.74,8.17,8.06]\n"
   ]
  },
  {
   "cell_type": "markdown",
   "metadata": {},
   "source": [
    "## Task 1. Transform de list into a Pandas series with a time series index. "
   ]
  },
  {
   "cell_type": "code",
   "execution_count": 74,
   "metadata": {},
   "outputs": [],
   "source": [
    "# Hints pd.Series, pd.date_range"
   ]
  },
  {
   "cell_type": "markdown",
   "metadata": {},
   "source": [
    "## Task 2. Calculate total monthly production and plot"
   ]
  },
  {
   "cell_type": "code",
   "execution_count": 73,
   "metadata": {},
   "outputs": [],
   "source": [
    "# Hint: days_in_month method"
   ]
  },
  {
   "cell_type": "markdown",
   "metadata": {},
   "source": [
    "## Task 3. Calculate annual production and plot"
   ]
  },
  {
   "cell_type": "code",
   "execution_count": 57,
   "metadata": {},
   "outputs": [],
   "source": [
    "# Hint: years method, and pd.DataFrame, pd.groupby"
   ]
  },
  {
   "cell_type": "markdown",
   "metadata": {},
   "source": [
    "# Bonus challenge: parse date times\n",
    "\n",
    "It is common for analysts to receive data with different time formats. Pandas has powerful tools to parse complex dates. \n",
    "Try the next ones."
   ]
  },
  {
   "cell_type": "code",
   "execution_count": 72,
   "metadata": {},
   "outputs": [],
   "source": [
    "# pd.to_datetime, mind your format options\n",
    "dates1 = ['15/03/18', '21/05/18'] #day, month, year\n",
    "dates2 = ['15/18/03 23:11:05', '21/18/05 12:05:06'] #day, year, month, hour (24hrs), min, seconds "
   ]
  },
  {
   "cell_type": "code",
   "execution_count": null,
   "metadata": {},
   "outputs": [],
   "source": []
  }
 ],
 "metadata": {
  "kernelspec": {
   "display_name": "Python 3",
   "language": "python",
   "name": "python3"
  },
  "language_info": {
   "codemirror_mode": {
    "name": "ipython",
    "version": 3
   },
   "file_extension": ".py",
   "mimetype": "text/x-python",
   "name": "python",
   "nbconvert_exporter": "python",
   "pygments_lexer": "ipython3",
   "version": "3.8.3"
  }
 },
 "nbformat": 4,
 "nbformat_minor": 4
}
